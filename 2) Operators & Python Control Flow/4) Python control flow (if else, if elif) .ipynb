{
 "cells": [
  {
   "cell_type": "code",
   "execution_count": 3,
   "id": "bd1e03b6",
   "metadata": {},
   "outputs": [
    {
     "name": "stdout",
     "output_type": "stream",
     "text": [
      "you're not allowed to vote\n"
     ]
    }
   ],
   "source": [
    "age=18 \n",
    "\n",
    "if age>18: \n",
    "    print(\"You're allowed to vote!\")\n",
    "else: \n",
    "    print(\"you're not allowed to vote\")"
   ]
  },
  {
   "cell_type": "code",
   "execution_count": 6,
   "id": "ccb90f4b",
   "metadata": {},
   "outputs": [
    {
     "name": "stdout",
     "output_type": "stream",
     "text": [
      "you're an adult\n"
     ]
    }
   ],
   "source": [
    "if age<12:\n",
    "    print(\"You're minor\")\n",
    "elif age<18: \n",
    "    print(\"You're teenager\")\n",
    "else: \n",
    "    print(\"you're an adult\")"
   ]
  },
  {
   "cell_type": "code",
   "execution_count": null,
   "id": "7fa3925e",
   "metadata": {},
   "outputs": [
    {
     "name": "stdout",
     "output_type": "stream",
     "text": [
      "Number is even\n"
     ]
    }
   ],
   "source": [
    "## nested if \n",
    "\n",
    "num=int(input(\"Enter one number:\"))\n",
    "\n",
    "if num>0:\n",
    "    if num%2==0:\n",
    "        print(\"Number is even\")\n",
    "    else:\n",
    "        print(\"Number is odd\")\n",
    "else:\n",
    "    print(\"Number is negative\")"
   ]
  },
  {
   "cell_type": "code",
   "execution_count": 11,
   "id": "7c683d76",
   "metadata": {},
   "outputs": [
    {
     "name": "stdout",
     "output_type": "stream",
     "text": [
      "Answer of division is  1.0\n"
     ]
    }
   ],
   "source": [
    "## practical example\n",
    "\n",
    "num1=int(input(\"Enter first number:\"))\n",
    "num2=int(input(\"Enter second number:\"))\n",
    "operation=input(\"Enter operation type: '+', '-', '*', '/':\" )\n",
    "\n",
    "if operation=='+':\n",
    "    print(\"Answer of addition is \", num1+num2)\n",
    "elif operation=='-':\n",
    "    print(\"Answer of subtraction is \", num1-num2)\n",
    "elif operation=='*':\n",
    "    print(\"Answer of multiplication is \", num1*num2)\n",
    "elif operation=='/':\n",
    "    print(\"Answer of division is \", num1/num2)\n",
    "else:\n",
    "    print(\"Enter valid operation symbol\")\n",
    "\n"
   ]
  }
 ],
 "metadata": {
  "kernelspec": {
   "display_name": "Python 3",
   "language": "python",
   "name": "python3"
  },
  "language_info": {
   "codemirror_mode": {
    "name": "ipython",
    "version": 3
   },
   "file_extension": ".py",
   "mimetype": "text/x-python",
   "name": "python",
   "nbconvert_exporter": "python",
   "pygments_lexer": "ipython3",
   "version": "3.10.0"
  }
 },
 "nbformat": 4,
 "nbformat_minor": 5
}
