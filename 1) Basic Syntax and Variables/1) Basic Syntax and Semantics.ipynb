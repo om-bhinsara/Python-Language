{
 "cells": [
  {
   "cell_type": "markdown",
   "id": "edb2ecb7",
   "metadata": {},
   "source": [
    "Python Basics Syntax and Semantics\n"
   ]
  },
  {
   "cell_type": "code",
   "execution_count": null,
   "id": "6c44553f",
   "metadata": {},
   "outputs": [],
   "source": [
    "## single line comment - Python is case sensitive language \n",
    "\n",
    "'''\n",
    "Double line comment\n",
    "'''"
   ]
  },
  {
   "cell_type": "code",
   "execution_count": 4,
   "id": "a52930e3",
   "metadata": {},
   "outputs": [
    {
     "name": "stdout",
     "output_type": "stream",
     "text": [
      "inside the if block\n",
      "outside of the if block\n"
     ]
    }
   ],
   "source": [
    "## Python use indentation to define block of code. consistant use of spaces (4 times) or tab\n",
    "\n",
    "age=20\n",
    "\n",
    "if age>18:\n",
    "    print(\"inside the if block\")\n",
    "print(\"outside of the if block\")"
   ]
  },
  {
   "cell_type": "code",
   "execution_count": 6,
   "id": "1a601cdd",
   "metadata": {},
   "outputs": [
    {
     "name": "stdout",
     "output_type": "stream",
     "text": [
      "15\n"
     ]
    }
   ],
   "source": [
    "## Line continuation - use backslash to continue (\\) to continue next line\n",
    "\n",
    "total=1+2+3+\\\n",
    "4+5\n",
    "print(total)"
   ]
  },
  {
   "cell_type": "code",
   "execution_count": 10,
   "id": "953645ac",
   "metadata": {},
   "outputs": [
    {
     "name": "stdout",
     "output_type": "stream",
     "text": [
      "4\n"
     ]
    }
   ],
   "source": [
    "## multiple statement on single line \n",
    "x=2; y=2; z=x+y\n",
    "print(z)"
   ]
  },
  {
   "cell_type": "code",
   "execution_count": 13,
   "id": "1b13f89d",
   "metadata": {},
   "outputs": [
    {
     "name": "stdout",
     "output_type": "stream",
     "text": [
      "<class 'int'>\n"
     ]
    },
    {
     "data": {
      "text/plain": [
       "int"
      ]
     },
     "execution_count": 13,
     "metadata": {},
     "output_type": "execute_result"
    }
   ],
   "source": [
    "## Type inference \n",
    "variable=10\n",
    "print(type(variable))\n",
    "type(variable)"
   ]
  }
 ],
 "metadata": {
  "kernelspec": {
   "display_name": "Python 3",
   "language": "python",
   "name": "python3"
  },
  "language_info": {
   "codemirror_mode": {
    "name": "ipython",
    "version": 3
   },
   "file_extension": ".py",
   "mimetype": "text/x-python",
   "name": "python",
   "nbconvert_exporter": "python",
   "pygments_lexer": "ipython3",
   "version": "3.10.0"
  }
 },
 "nbformat": 4,
 "nbformat_minor": 5
}
