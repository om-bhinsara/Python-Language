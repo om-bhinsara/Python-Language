{
 "cells": [
  {
   "cell_type": "code",
   "execution_count": 3,
   "id": "064d5966",
   "metadata": {},
   "outputs": [
    {
     "name": "stdout",
     "output_type": "stream",
     "text": [
      "Age: 12\n",
      "Height: 5.8\n",
      "Name: om\n"
     ]
    }
   ],
   "source": [
    "# Declaring and Assigning the variable and printing those value\n",
    "\n",
    "age=12\n",
    "height=5.8\n",
    "name=\"om\"\n",
    "is_student=True\n",
    "\n",
    "print(\"Age:\",age)\n",
    "print(\"Height:\",height)\n",
    "print(\"Name:\", name)\n"
   ]
  },
  {
   "cell_type": "code",
   "execution_count": 6,
   "id": "9515a504",
   "metadata": {},
   "outputs": [
    {
     "name": "stdout",
     "output_type": "stream",
     "text": [
      "2\n"
     ]
    }
   ],
   "source": [
    "# User Input\n",
    "\n",
    "var1=input(\"Enter value one: \")\n",
    "print(var1)"
   ]
  },
  {
   "cell_type": "code",
   "execution_count": 7,
   "id": "0cb89c5c",
   "metadata": {},
   "outputs": [
    {
     "name": "stdout",
     "output_type": "stream",
     "text": [
      "2.0\n"
     ]
    }
   ],
   "source": [
    "# Type casting\n",
    "# from int to float\n",
    "\n",
    "a=2\n",
    "b=float(a)\n",
    "print(b)"
   ]
  },
  {
   "cell_type": "code",
   "execution_count": 9,
   "id": "2996f3ce",
   "metadata": {},
   "outputs": [
    {
     "name": "stdout",
     "output_type": "stream",
     "text": [
      "2 <class 'int'>\n"
     ]
    }
   ],
   "source": [
    "# Type checking \n",
    "\n",
    "a=2\n",
    "print(a, type(a))"
   ]
  },
  {
   "cell_type": "code",
   "execution_count": 11,
   "id": "544963ef",
   "metadata": {},
   "outputs": [
    {
     "name": "stdout",
     "output_type": "stream",
     "text": [
      "2 <class 'str'>\n"
     ]
    }
   ],
   "source": [
    "# when a user enters data using input() in Python, it is always taken as a string,\n",
    "# regardless of what the user types.\n",
    "\n",
    "a=input(\"Enter any number: \")\n",
    "type(a)\n",
    "print(a, type(a))"
   ]
  },
  {
   "cell_type": "code",
   "execution_count": 12,
   "id": "3850eed8",
   "metadata": {},
   "outputs": [
    {
     "name": "stdout",
     "output_type": "stream",
     "text": [
      "2 <class 'int'>\n"
     ]
    }
   ],
   "source": [
    "# we can convert input data into any type by type casting\n",
    "\n",
    "a=int(input(\"Enter any number: \"))\n",
    "type(a)\n",
    "print(a, type(a))\n"
   ]
  },
  {
   "cell_type": "code",
   "execution_count": 13,
   "id": "8fd2eedb",
   "metadata": {},
   "outputs": [
    {
     "name": "stdout",
     "output_type": "stream",
     "text": [
      "Hello5\n"
     ]
    }
   ],
   "source": [
    "# Ex of type conversion int to string with string concatination \n",
    "\n",
    "var=\"Hello\" + str(5)\n",
    "print(var)\n"
   ]
  }
 ],
 "metadata": {
  "kernelspec": {
   "display_name": "Python 3",
   "language": "python",
   "name": "python3"
  },
  "language_info": {
   "codemirror_mode": {
    "name": "ipython",
    "version": 3
   },
   "file_extension": ".py",
   "mimetype": "text/x-python",
   "name": "python",
   "nbconvert_exporter": "python",
   "pygments_lexer": "ipython3",
   "version": "3.10.0"
  }
 },
 "nbformat": 4,
 "nbformat_minor": 5
}
